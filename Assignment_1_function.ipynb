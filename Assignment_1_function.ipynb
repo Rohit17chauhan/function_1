{
 "cells": [
  {
   "cell_type": "code",
   "execution_count": 1,
   "id": "b70b6a88-6310-4b7d-9fec-f3ed8f435fab",
   "metadata": {},
   "outputs": [],
   "source": [
    "#ques_1"
   ]
  },
  {
   "cell_type": "code",
   "execution_count": 3,
   "id": "8fe80a46-90ca-49d1-a8a9-ef150e838fca",
   "metadata": {},
   "outputs": [
    {
     "data": {
      "text/plain": [
       "'Q1= Which keyword is used to create a function? Create a function to return a list of odd numbers in the\"range of 1 to 25.'"
      ]
     },
     "execution_count": 3,
     "metadata": {},
     "output_type": "execute_result"
    }
   ],
   "source": [
    "\"\"\"Q1= Which keyword is used to create a function? Create a function to return a list of odd numbers in the\"range of 1 to 25.\"\"\""
   ]
  },
  {
   "cell_type": "code",
   "execution_count": 4,
   "id": "e85d72d7-cef6-4a70-922b-31f2399205ff",
   "metadata": {},
   "outputs": [
    {
     "data": {
      "text/plain": [
       "' ans_1'"
      ]
     },
     "execution_count": 4,
     "metadata": {},
     "output_type": "execute_result"
    }
   ],
   "source": [
    "\"\"\" ans_1\"\"\""
   ]
  },
  {
   "cell_type": "code",
   "execution_count": 6,
   "id": "e85c6385-9520-4ace-9561-ebe29837b6de",
   "metadata": {},
   "outputs": [],
   "source": [
    "ans_1=\"def keyword are used to crate a function\""
   ]
  },
  {
   "cell_type": "code",
   "execution_count": 7,
   "id": "5885539e-79a1-4d60-9eba-26719b9d36a8",
   "metadata": {},
   "outputs": [
    {
     "data": {
      "text/plain": [
       "'def keyword are used to crate a function'"
      ]
     },
     "execution_count": 7,
     "metadata": {},
     "output_type": "execute_result"
    }
   ],
   "source": [
    "ans_1"
   ]
  },
  {
   "cell_type": "code",
   "execution_count": 10,
   "id": "738f4711-5e05-4357-82d3-3fc90dd3ba27",
   "metadata": {},
   "outputs": [
    {
     "name": "stdout",
     "output_type": "stream",
     "text": [
      "1\n",
      "3\n",
      "5\n",
      "7\n",
      "9\n",
      "11\n",
      "13\n",
      "15\n",
      "17\n",
      "19\n",
      "21\n",
      "23\n",
      "25\n"
     ]
    }
   ],
   "source": [
    "\n",
    "for i in range(1,26):\n",
    "    if i%2!=0:\n",
    "        print(i)\n",
    "    "
   ]
  },
  {
   "cell_type": "code",
   "execution_count": 13,
   "id": "c44c00a0-8e47-45f8-8120-7cd131e056e2",
   "metadata": {},
   "outputs": [
    {
     "data": {
      "text/plain": [
       "'Question_2'"
      ]
     },
     "execution_count": 13,
     "metadata": {},
     "output_type": "execute_result"
    }
   ],
   "source": [
    "\"\"\"Question_2\"\"\""
   ]
  },
  {
   "cell_type": "code",
   "execution_count": 14,
   "id": "4cd4e2da-45ff-479c-ad3c-12bb0c1dd6ac",
   "metadata": {},
   "outputs": [
    {
     "data": {
      "text/plain": [
       "'Q2. Why *args and **kwargs is used in some functions? Create a function each for *args and **kwargs\\nto demonstrate their use.'"
      ]
     },
     "execution_count": 14,
     "metadata": {},
     "output_type": "execute_result"
    }
   ],
   "source": [
    "\"\"\"Q2. Why *args and **kwargs is used in some functions? Create a function each for *args and **kwargs\n",
    "to demonstrate their use.\"\"\""
   ]
  },
  {
   "cell_type": "code",
   "execution_count": 15,
   "id": "887d3c22-a883-4584-88ac-d5d0aef29c75",
   "metadata": {},
   "outputs": [
    {
     "data": {
      "text/plain": [
       "'Ans_2'"
      ]
     },
     "execution_count": 15,
     "metadata": {},
     "output_type": "execute_result"
    }
   ],
   "source": [
    "\"\"\"Ans_2\"\"\""
   ]
  },
  {
   "cell_type": "code",
   "execution_count": 17,
   "id": "91af8651-e2fd-4d97-8a6f-af062bed84b0",
   "metadata": {},
   "outputs": [],
   "source": [
    "args_kwargs=\"*argas are ued in functin because those input we want enter that same output will come out  and we can use other word at the palce of *args **kwargs are used in function because if want a data in the form of dictionary then we use **kwargs\""
   ]
  },
  {
   "cell_type": "code",
   "execution_count": 18,
   "id": "b3e0ad75-3f3c-4caf-8a20-66b95945091e",
   "metadata": {},
   "outputs": [
    {
     "data": {
      "text/plain": [
       "'*argas are ued in functin because those input we want enter that same output will come out  and we can use other word at the palce of *args **kwargs are used in function because if want a data in the form of dictionary then we use **kwargs'"
      ]
     },
     "execution_count": 18,
     "metadata": {},
     "output_type": "execute_result"
    }
   ],
   "source": [
    "args_kwargs"
   ]
  },
  {
   "cell_type": "code",
   "execution_count": 19,
   "id": "7b33d57c-bcd8-4cd9-b827-af29fb4f61f9",
   "metadata": {},
   "outputs": [],
   "source": [
    "def test(*args):\n",
    "    return args"
   ]
  },
  {
   "cell_type": "code",
   "execution_count": 20,
   "id": "54b82b6a-f6df-4abe-8601-d814f87aaec9",
   "metadata": {},
   "outputs": [
    {
     "data": {
      "text/plain": [
       "(15556,)"
      ]
     },
     "execution_count": 20,
     "metadata": {},
     "output_type": "execute_result"
    }
   ],
   "source": [
    "test(15556)"
   ]
  },
  {
   "cell_type": "code",
   "execution_count": 21,
   "id": "ecd6f9f8-8301-48f3-a2fa-d5fc93380727",
   "metadata": {},
   "outputs": [],
   "source": [
    "def test(**kwargs):\n",
    "    return kwargs"
   ]
  },
  {
   "cell_type": "code",
   "execution_count": 25,
   "id": "8b4640cf-6b25-4286-957e-2654664aae3d",
   "metadata": {},
   "outputs": [
    {
     "data": {
      "text/plain": [
       "{'a': 'apple', 'b': 'boy'}"
      ]
     },
     "execution_count": 25,
     "metadata": {},
     "output_type": "execute_result"
    }
   ],
   "source": [
    "test(a=\"apple\",b=\"boy\")"
   ]
  },
  {
   "cell_type": "code",
   "execution_count": 26,
   "id": "ab8ac646-7481-4131-aed9-5723e84a3a7e",
   "metadata": {},
   "outputs": [
    {
     "data": {
      "text/plain": [
       "'Question_3'"
      ]
     },
     "execution_count": 26,
     "metadata": {},
     "output_type": "execute_result"
    }
   ],
   "source": [
    "\"\"\"Question_3\"\"\""
   ]
  },
  {
   "cell_type": "code",
   "execution_count": 27,
   "id": "e189573a-f65b-4a3a-a517-406d7dd5815f",
   "metadata": {},
   "outputs": [
    {
     "data": {
      "text/plain": [
       "'Q3. What is an iterator in python? Name the method used to initialise the iterator object and the method\\nused for iteration. Use these methods to print the first five elements of the given list [2, 4, 6, 8, 10, 12, 14,\\n16, 18, 20].'"
      ]
     },
     "execution_count": 27,
     "metadata": {},
     "output_type": "execute_result"
    }
   ],
   "source": [
    "\"\"\"Q3. What is an iterator in python? Name the method used to initialise the iterator object and the method\n",
    "used for iteration. Use these methods to print the first five elements of the given list [2, 4, 6, 8, 10, 12, 14,\n",
    "16, 18, 20].\"\"\""
   ]
  },
  {
   "cell_type": "code",
   "execution_count": 28,
   "id": "77208cd2-fe41-432c-a319-21dc59262acd",
   "metadata": {},
   "outputs": [
    {
     "data": {
      "text/plain": [
       "'Ans_3'"
      ]
     },
     "execution_count": 28,
     "metadata": {},
     "output_type": "execute_result"
    }
   ],
   "source": [
    "\"\"\"Ans_3\"\"\""
   ]
  },
  {
   "cell_type": "code",
   "execution_count": 30,
   "id": "69a35a8d-3032-4d23-b94d-41af2a42835a",
   "metadata": {},
   "outputs": [],
   "source": [
    "Ans_3=\"iteratoe is a function in python that is used to find the next vale and we use iter to initialise a iterator\""
   ]
  },
  {
   "cell_type": "code",
   "execution_count": 31,
   "id": "f4920f1a-76b4-400c-a252-43f4b5774857",
   "metadata": {},
   "outputs": [
    {
     "data": {
      "text/plain": [
       "'iteratoe is a function in python that is used to find the next vale and we use iter to initialise a iterator'"
      ]
     },
     "execution_count": 31,
     "metadata": {},
     "output_type": "execute_result"
    }
   ],
   "source": [
    "Ans_3"
   ]
  },
  {
   "cell_type": "code",
   "execution_count": 32,
   "id": "4b5c5fda-c32b-4a82-9332-e1fcb6cc75d2",
   "metadata": {},
   "outputs": [],
   "source": [
    "l=[2,4,6,8,10,12,14,16,18,20]"
   ]
  },
  {
   "cell_type": "code",
   "execution_count": 33,
   "id": "bb5a9c87-34b9-46f6-ada1-ed7c3ed7ae0d",
   "metadata": {},
   "outputs": [],
   "source": [
    "a=iter(l)"
   ]
  },
  {
   "cell_type": "code",
   "execution_count": 34,
   "id": "116dc8c0-a06f-4062-a119-8e0dabfaa3c7",
   "metadata": {},
   "outputs": [
    {
     "data": {
      "text/plain": [
       "2"
      ]
     },
     "execution_count": 34,
     "metadata": {},
     "output_type": "execute_result"
    }
   ],
   "source": [
    "next(a)"
   ]
  },
  {
   "cell_type": "code",
   "execution_count": 35,
   "id": "2e7df402-aa91-402d-a622-533698a2ba16",
   "metadata": {},
   "outputs": [
    {
     "data": {
      "text/plain": [
       "4"
      ]
     },
     "execution_count": 35,
     "metadata": {},
     "output_type": "execute_result"
    }
   ],
   "source": [
    "next(a)"
   ]
  },
  {
   "cell_type": "code",
   "execution_count": 36,
   "id": "1bd06488-2de7-48ed-99fa-c49a05b083ef",
   "metadata": {},
   "outputs": [
    {
     "data": {
      "text/plain": [
       "6"
      ]
     },
     "execution_count": 36,
     "metadata": {},
     "output_type": "execute_result"
    }
   ],
   "source": [
    "next(a)"
   ]
  },
  {
   "cell_type": "code",
   "execution_count": 37,
   "id": "ff1af8b2-52f7-4dc5-8239-534dac28c2b4",
   "metadata": {},
   "outputs": [
    {
     "data": {
      "text/plain": [
       "8"
      ]
     },
     "execution_count": 37,
     "metadata": {},
     "output_type": "execute_result"
    }
   ],
   "source": [
    "next(a)"
   ]
  },
  {
   "cell_type": "code",
   "execution_count": 38,
   "id": "519edc7e-89ff-43b6-bc60-31e018fe73d1",
   "metadata": {},
   "outputs": [
    {
     "data": {
      "text/plain": [
       "10"
      ]
     },
     "execution_count": 38,
     "metadata": {},
     "output_type": "execute_result"
    }
   ],
   "source": [
    "next(a)"
   ]
  },
  {
   "cell_type": "code",
   "execution_count": 39,
   "id": "c187e484-91c7-464d-b970-059ae656016d",
   "metadata": {},
   "outputs": [
    {
     "data": {
      "text/plain": [
       "'Q4. What is a generator function in python? Why yield keyword is used? Give an example of a generator\\nfunction.'"
      ]
     },
     "execution_count": 39,
     "metadata": {},
     "output_type": "execute_result"
    }
   ],
   "source": [
    "\"\"\"Q4. What is a generator function in python? Why yield keyword is used? Give an example of a generator\n",
    "function.\"\"\""
   ]
  },
  {
   "cell_type": "code",
   "execution_count": 40,
   "id": "bd52d6f1-64e2-4809-a1f1-2f9ccec5ab22",
   "metadata": {},
   "outputs": [
    {
     "data": {
      "text/plain": [
       "'Ans_4'"
      ]
     },
     "execution_count": 40,
     "metadata": {},
     "output_type": "execute_result"
    }
   ],
   "source": [
    "\"\"\"Ans_4\"\"\""
   ]
  },
  {
   "cell_type": "code",
   "execution_count": 47,
   "id": "c8db23a0-1a2a-49c1-a561-abdab35582f7",
   "metadata": {},
   "outputs": [],
   "source": [
    "Ans_4=\"Generator function also of the main type in function it is used for different procpective , generator are used for less memory utilisation and its gives an output one by one , yield keyword are used to yield a number that we want\""
   ]
  },
  {
   "cell_type": "code",
   "execution_count": 48,
   "id": "feb03989-09fb-4bc7-8050-c9a25523e114",
   "metadata": {},
   "outputs": [
    {
     "data": {
      "text/plain": [
       "'Generator function also of the main type in function it is used for different procpective , generator are used for less memory utilisation and its gives an output one by one , yield keyword are used to yield a number that we want'"
      ]
     },
     "execution_count": 48,
     "metadata": {},
     "output_type": "execute_result"
    }
   ],
   "source": [
    "Ans_4\n"
   ]
  },
  {
   "cell_type": "code",
   "execution_count": 43,
   "id": "64f20770-b6e8-4704-b878-d43bd4e771eb",
   "metadata": {},
   "outputs": [],
   "source": [
    "def fib(n):\n",
    "    a,b=0,1\n",
    "    for i in range(n):\n",
    "        yield a\n",
    "        a,b=b,a+b"
   ]
  },
  {
   "cell_type": "code",
   "execution_count": 46,
   "id": "a1546a61-9228-49d6-ab87-eeba63b20a07",
   "metadata": {},
   "outputs": [
    {
     "data": {
      "text/plain": [
       "[0, 1, 1, 2, 3, 5, 8, 13, 21, 34]"
      ]
     },
     "execution_count": 46,
     "metadata": {},
     "output_type": "execute_result"
    }
   ],
   "source": [
    "list(fib(10))"
   ]
  },
  {
   "cell_type": "code",
   "execution_count": 49,
   "id": "493bfdd5-85fe-4286-a821-d5b41404a4d3",
   "metadata": {},
   "outputs": [
    {
     "data": {
      "text/plain": [
       "'Q5. Create a generator function for prime numbers less than 1000. Use the next() method to print the\\nfirst 20 prime numbers.'"
      ]
     },
     "execution_count": 49,
     "metadata": {},
     "output_type": "execute_result"
    }
   ],
   "source": [
    "\"\"\"Q5. Create a generator function for prime numbers less than 1000. Use the next() method to print the\n",
    "first 20 prime numbers.\"\"\""
   ]
  },
  {
   "cell_type": "code",
   "execution_count": 53,
   "id": "d8f4f2e5-2d72-4adb-932a-d9664ad9d215",
   "metadata": {},
   "outputs": [
    {
     "name": "stdout",
     "output_type": "stream",
     "text": [
      "2\n",
      "3\n",
      "5\n",
      "7\n",
      "11\n",
      "13\n",
      "17\n",
      "19\n",
      "23\n",
      "29\n",
      "31\n",
      "37\n",
      "41\n",
      "43\n",
      "47\n",
      "53\n",
      "59\n",
      "61\n",
      "67\n",
      "71\n"
     ]
    }
   ],
   "source": [
    "def is_prime(num):\n",
    "    if num <= 1:\n",
    "        return False\n",
    "    if num <= 3:\n",
    "        return True\n",
    "    if num % 2 == 0 or num % 3 == 0:\n",
    "        return False\n",
    "    i = 5\n",
    "    while i * i <= num:\n",
    "        if num % i == 0 or num % (i + 2) == 0:\n",
    "            return False\n",
    "        i += 6\n",
    "    return True\n",
    "\n",
    "def prime_generator(limit):\n",
    "    num = 2\n",
    "    while num < limit:\n",
    "        if is_prime(num):\n",
    "            yield num\n",
    "        num += 1\n",
    "\n",
    "prime_gen = prime_generator(1000)\n",
    "\n",
    "for _ in range(20):\n",
    "    print(next(prime_gen))\n",
    "   \n",
    "    "
   ]
  },
  {
   "cell_type": "code",
   "execution_count": 54,
   "id": "2fddcaf6-c298-46f4-8538-b3350466fb8b",
   "metadata": {},
   "outputs": [
    {
     "data": {
      "text/plain": [
       "'Q6. Write a python program to print the first 10 Fibonacci numbers using a while loop.'"
      ]
     },
     "execution_count": 54,
     "metadata": {},
     "output_type": "execute_result"
    }
   ],
   "source": [
    "\"\"\"Q6. Write a python program to print the first 10 Fibonacci numbers using a while loop.\"\"\""
   ]
  },
  {
   "cell_type": "code",
   "execution_count": 55,
   "id": "76395283-9d3d-43c7-8e32-f40ecd89e68b",
   "metadata": {},
   "outputs": [
    {
     "data": {
      "text/plain": [
       "'Ans_6'"
      ]
     },
     "execution_count": 55,
     "metadata": {},
     "output_type": "execute_result"
    }
   ],
   "source": [
    "\"Ans_6\"\"\""
   ]
  },
  {
   "cell_type": "code",
   "execution_count": 56,
   "id": "e845fb63-9feb-4cc7-9d5e-2823be05abab",
   "metadata": {},
   "outputs": [],
   "source": [
    "def fib(n):\n",
    "    a,b=0,1\n",
    "    for i in range(n):\n",
    "        yield a\n",
    "        a,b=b,a+b"
   ]
  },
  {
   "cell_type": "code",
   "execution_count": 58,
   "id": "ea14b090-e7df-4ceb-8b68-b205748e1b8b",
   "metadata": {},
   "outputs": [
    {
     "data": {
      "text/plain": [
       "[0, 1, 1, 2, 3, 5, 8, 13, 21, 34]"
      ]
     },
     "execution_count": 58,
     "metadata": {},
     "output_type": "execute_result"
    }
   ],
   "source": [
    "list(fib(10))"
   ]
  },
  {
   "cell_type": "code",
   "execution_count": 59,
   "id": "0352b498-a1c2-4d0c-9d81-3bc6d456cfdb",
   "metadata": {},
   "outputs": [
    {
     "data": {
      "text/plain": [
       "\"Q7. Write a List Comprehension to iterate through the given string: ‘pwskills’.\\nExpected output: ['p', 'w', 's', 'k', 'i', 'l', 'l', 's']\""
      ]
     },
     "execution_count": 59,
     "metadata": {},
     "output_type": "execute_result"
    }
   ],
   "source": [
    "\"\"\"Q7. Write a List Comprehension to iterate through the given string: ‘pwskills’.\n",
    "Expected output: ['p', 'w', 's', 'k', 'i', 'l', 'l', 's']\"\"\""
   ]
  },
  {
   "cell_type": "code",
   "execution_count": 60,
   "id": "e8c71bec-e3ab-49fc-acf8-a1ccb3f12a84",
   "metadata": {},
   "outputs": [
    {
     "data": {
      "text/plain": [
       "'Ans_7'"
      ]
     },
     "execution_count": 60,
     "metadata": {},
     "output_type": "execute_result"
    }
   ],
   "source": [
    "\"\"\"Ans_7\"\"\""
   ]
  },
  {
   "cell_type": "code",
   "execution_count": 75,
   "id": "9083f084-e7cc-495c-87f5-a21f6cd9fdf6",
   "metadata": {},
   "outputs": [
    {
     "name": "stdout",
     "output_type": "stream",
     "text": [
      "['p', 'w', 's', 'k', 'i', 'l', 'l', 's']\n"
     ]
    }
   ],
   "source": [
    "p = 'pwskills'\n",
    "q = [char for char in p if char in 'pwskills']\n",
    "\n",
    "print(q)\n"
   ]
  },
  {
   "cell_type": "code",
   "execution_count": 76,
   "id": "75af061e-b9b7-46f3-a076-c52a7d8bef77",
   "metadata": {},
   "outputs": [
    {
     "data": {
      "text/plain": [
       "'Write a python program to check whether a given number is Palindrome or not using a while loop.'"
      ]
     },
     "execution_count": 76,
     "metadata": {},
     "output_type": "execute_result"
    }
   ],
   "source": [
    "\"\"\"Write a python program to check whether a given number is Palindrome or not using a while loop.\"\"\""
   ]
  },
  {
   "cell_type": "code",
   "execution_count": 80,
   "id": "d610f7aa-4eb3-49d7-acfc-ae3378160837",
   "metadata": {},
   "outputs": [
    {
     "name": "stdin",
     "output_type": "stream",
     "text": [
      "Enter a number:  4511\n"
     ]
    },
    {
     "name": "stdout",
     "output_type": "stream",
     "text": [
      "4511 is not a palindrome.\n"
     ]
    }
   ],
   "source": [
    "def is_palindrome(num):\n",
    "    original_num = num\n",
    "    reversed_num = 0\n",
    "    \n",
    "    while num > 0:\n",
    "        digit = num % 10\n",
    "        reversed_num = reversed_num * 10 + digit\n",
    "        num //= 10\n",
    "    \n",
    "    return original_num == reversed_num\n",
    "\n",
    "num = int(input(\"Enter a number: \"))\n",
    "\n",
    "if is_palindrome(num):\n",
    "    print(f\"{num} is a palindrome.\")\n",
    "else:\n",
    "    print(f\"{num} is not a palindrome.\")\n"
   ]
  },
  {
   "cell_type": "code",
   "execution_count": 81,
   "id": "a5c36531-16c0-4c2b-be8a-be9374c33948",
   "metadata": {},
   "outputs": [
    {
     "data": {
      "text/plain": [
       "'Q9. Write a code to print odd numbers from 1 to 100 using list comprehension.'"
      ]
     },
     "execution_count": 81,
     "metadata": {},
     "output_type": "execute_result"
    }
   ],
   "source": [
    "\"\"\"Q9. Write a code to print odd numbers from 1 to 100 using list comprehension.\"\"\""
   ]
  },
  {
   "cell_type": "code",
   "execution_count": 14,
   "id": "f7b548b3-32c1-490a-89bc-e5327850e225",
   "metadata": {},
   "outputs": [
    {
     "name": "stdout",
     "output_type": "stream",
     "text": [
      "1\n",
      "not odd number\n",
      "3\n",
      "not odd number\n",
      "5\n",
      "not odd number\n",
      "7\n",
      "not odd number\n",
      "9\n",
      "not odd number\n",
      "11\n",
      "not odd number\n",
      "13\n",
      "not odd number\n",
      "15\n",
      "not odd number\n",
      "17\n",
      "not odd number\n",
      "19\n",
      "not odd number\n",
      "21\n",
      "not odd number\n",
      "23\n",
      "not odd number\n",
      "25\n",
      "not odd number\n",
      "27\n",
      "not odd number\n",
      "29\n",
      "not odd number\n",
      "31\n",
      "not odd number\n",
      "33\n",
      "not odd number\n",
      "35\n",
      "not odd number\n",
      "37\n",
      "not odd number\n",
      "39\n",
      "not odd number\n",
      "41\n",
      "not odd number\n",
      "43\n",
      "not odd number\n",
      "45\n",
      "not odd number\n",
      "47\n",
      "not odd number\n",
      "49\n",
      "not odd number\n",
      "51\n",
      "not odd number\n",
      "53\n",
      "not odd number\n",
      "55\n",
      "not odd number\n",
      "57\n",
      "not odd number\n",
      "59\n",
      "not odd number\n",
      "61\n",
      "not odd number\n",
      "63\n",
      "not odd number\n",
      "65\n",
      "not odd number\n",
      "67\n",
      "not odd number\n",
      "69\n",
      "not odd number\n",
      "71\n",
      "not odd number\n",
      "73\n",
      "not odd number\n",
      "75\n",
      "not odd number\n",
      "77\n",
      "not odd number\n",
      "79\n",
      "not odd number\n",
      "81\n",
      "not odd number\n",
      "83\n",
      "not odd number\n",
      "85\n",
      "not odd number\n",
      "87\n",
      "not odd number\n",
      "89\n",
      "not odd number\n",
      "91\n",
      "not odd number\n",
      "93\n",
      "not odd number\n",
      "95\n",
      "not odd number\n",
      "97\n",
      "not odd number\n",
      "99\n"
     ]
    }
   ],
   "source": [
    "for i in range(1,100):\n",
    "    if i%2!\n",
    "                \n",
    "                \n",
    "                  \n",
    "        \n",
    "   \n",
    "\n",
    "    \n",
    "        "
   ]
  },
  {
   "cell_type": "code",
   "execution_count": 15,
   "id": "82e28a90-98fc-45a6-ba27-3e7442f244b8",
   "metadata": {},
   "outputs": [],
   "source": [
    "# here i use pass value because if i use else statement its give 2 value (num and not odd) therefor i ues pass value in else satatement "
   ]
  },
  {
   "cell_type": "code",
   "execution_count": null,
   "id": "8fd93589-970b-49c4-aa9e-7fe4857ee300",
   "metadata": {},
   "outputs": [],
   "source": []
  }
 ],
 "metadata": {
  "kernelspec": {
   "display_name": "Python 3 (ipykernel)",
   "language": "python",
   "name": "python3"
  },
  "language_info": {
   "codemirror_mode": {
    "name": "ipython",
    "version": 3
   },
   "file_extension": ".py",
   "mimetype": "text/x-python",
   "name": "python",
   "nbconvert_exporter": "python",
   "pygments_lexer": "ipython3",
   "version": "3.10.8"
  }
 },
 "nbformat": 4,
 "nbformat_minor": 5
}
